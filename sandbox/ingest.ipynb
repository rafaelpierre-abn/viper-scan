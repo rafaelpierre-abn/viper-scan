{
 "cells": [
  {
   "cell_type": "code",
   "execution_count": null,
   "metadata": {},
   "outputs": [],
   "source": [
    "from pyspark.sql import SparkSession\n",
    "from pyspark.sql.functions import col, explode, array_compact\n",
    "from pyspark.sql.types import StructType, StructField, StringType, ArrayType, TimestampType\n",
    "\n",
    "# Initialize a Spark session\n",
    "spark = SparkSession.builder \\\n",
    "    .appName(\"Read JSON Files\") \\\n",
    "    .config(\"spark.sql.shuffle.partitions\", \"200\") \\\n",
    "    .config(\"spark.executor.memory\", \"4g\") \\\n",
    "    .config(\"spark.driver.memory\", \"4g\") \\\n",
    "    .getOrCreate()"
   ]
  },
  {
   "cell_type": "code",
   "execution_count": null,
   "metadata": {},
   "outputs": [],
   "source": [
    "\n",
    "# Define the schema to avoid the overhead of schema inference\n",
    "schema = StructType([\n",
    "    StructField(\"id\", StringType(), True),\n",
    "    StructField(\"summary\", StringType(), True),\n",
    "    StructField(\"details\", StringType(), True),\n",
    "    StructField(\"aliases\", ArrayType(StringType()), True),\n",
    "    StructField(\"modified\", TimestampType(), True),\n",
    "    StructField(\"published\", TimestampType(), True),\n",
    "    StructField(\"database_specific\", StructType([\n",
    "        StructField(\"severity\", StringType(), True)\n",
    "    ]), True),\n",
    "    StructField(\"affected\", ArrayType(StructType([\n",
    "        StructField(\"package\", StructType([\n",
    "            StructField(\"name\", StringType(), True)\n",
    "        ]), True),\n",
    "        StructField(\"versions\", ArrayType(StringType()), True)\n",
    "    ])), True),\n",
    "    StructField(\"severity\", ArrayType(StructType([\n",
    "        StructField(\"type\", StringType(), True),\n",
    "        StructField(\"score\", StringType(), True)\n",
    "    ])), True)\n",
    "])\n",
    "\n",
    "# Path to the directory containing JSON files\n",
    "json_directory = \"../.viper_cache/*.json\"\n",
    "\n",
    "# Read JSON files into a DataFrame using the predefined schema\n",
    "df = spark.read.option(\"multiLine\", \"true\").schema(schema).json(json_directory)"
   ]
  },
  {
   "cell_type": "code",
   "execution_count": null,
   "metadata": {},
   "outputs": [],
   "source": [
    "\n",
    "# Select relevant fields, handling nested structures appropriately\n",
    "selected_df = df.select(\n",
    "    col(\"id\"),\n",
    "    col(\"summary\"),\n",
    "    col(\"details\"),\n",
    "    col(\"aliases\"),\n",
    "    col(\"modified\"),\n",
    "    col(\"published\"),\n",
    "    col(\"database_specific.severity\").alias(\"severity\"),\n",
    "    col(\"affected.package.name\").alias(\"package_name\"),\n",
    "    col(\"affected.versions\").alias(\"versions\"),\n",
    "    col(\"severity.score\").alias(\"severity_score\")\n",
    ")\n",
    "\n",
    "selected_df.printSchema()"
   ]
  },
  {
   "cell_type": "code",
   "execution_count": null,
   "metadata": {},
   "outputs": [],
   "source": [
    "selected_df.show()"
   ]
  },
  {
   "cell_type": "code",
   "execution_count": null,
   "metadata": {},
   "outputs": [],
   "source": [
    "exploded_df = (\n",
    "    selected_df\n",
    "        .withColumn(\"package_name\", explode(col(\"package_name\")))\n",
    "        .withColumn(\"versions\", explode(col(\"versions\")))\n",
    "        .withColumn(\"severity_score\", explode(col(\"severity_score\")))\n",
    ")\n",
    "\n",
    "exploded_df.show()"
   ]
  },
  {
   "cell_type": "code",
   "execution_count": null,
   "metadata": {},
   "outputs": [],
   "source": [
    "filtered_df = (\n",
    "    exploded_df\n",
    "        .filter(col(\"versions\").isNull() == False)\n",
    "        .withColumn(\n",
    "            \"versions\",\n",
    "            explode(col(\"versions\"))\n",
    "        )\n",
    ")"
   ]
  },
  {
   "cell_type": "code",
   "execution_count": null,
   "metadata": {},
   "outputs": [],
   "source": [
    "filtered_df.show()"
   ]
  },
  {
   "cell_type": "code",
   "execution_count": null,
   "metadata": {},
   "outputs": [],
   "source": [
    "filtered_df = filtered_df.repartition(10, [\"package_name\", \"versions\"])\n",
    "filtered_df.write.mode(\"overwrite\").parquet(\"../.viper_cache/vulnerabilities.parquet\")"
   ]
  }
 ],
 "metadata": {
  "kernelspec": {
   "display_name": ".venv",
   "language": "python",
   "name": "python3"
  },
  "language_info": {
   "codemirror_mode": {
    "name": "ipython",
    "version": 3
   },
   "file_extension": ".py",
   "mimetype": "text/x-python",
   "name": "python",
   "nbconvert_exporter": "python",
   "pygments_lexer": "ipython3",
   "version": "3.11.6"
  }
 },
 "nbformat": 4,
 "nbformat_minor": 2
}
