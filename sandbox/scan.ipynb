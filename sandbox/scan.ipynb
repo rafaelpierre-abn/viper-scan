{
 "cells": [
  {
   "cell_type": "code",
   "execution_count": 1,
   "metadata": {},
   "outputs": [
    {
     "name": "stderr",
     "output_type": "stream",
     "text": [
      "24/07/07 16:33:17 WARN Utils: Your hostname, rafael-Blade-15-2022-RZ09-0421 resolves to a loopback address: 127.0.1.1; using 192.168.178.224 instead (on interface wlo1)\n",
      "24/07/07 16:33:17 WARN Utils: Set SPARK_LOCAL_IP if you need to bind to another address\n",
      "Setting default log level to \"WARN\".\n",
      "To adjust logging level use sc.setLogLevel(newLevel). For SparkR, use setLogLevel(newLevel).\n",
      "24/07/07 16:33:17 WARN NativeCodeLoader: Unable to load native-hadoop library for your platform... using builtin-java classes where applicable\n"
     ]
    }
   ],
   "source": [
    "from pyspark.sql import SparkSession\n",
    "from pyspark.sql import functions as F\n",
    "\n",
    "# Initialize a Spark session\n",
    "spark = SparkSession.builder \\\n",
    "    .appName(\"Read JSON Files\") \\\n",
    "    .config(\"spark.sql.shuffle.partitions\", \"200\") \\\n",
    "    .config(\"spark.executor.memory\", \"4g\") \\\n",
    "    .config(\"spark.driver.memory\", \"4g\") \\\n",
    "    .getOrCreate()"
   ]
  },
  {
   "cell_type": "code",
   "execution_count": 3,
   "metadata": {},
   "outputs": [
    {
     "name": "stdout",
     "output_type": "stream",
     "text": [
      "+-------------------+--------------------+--------------------+--------------------+--------------------+-------------------+--------+------------+--------------------+--------------------+\n",
      "|                 id|             summary|             details|             aliases|            modified|          published|severity|package_name|            versions|      severity_score|\n",
      "+-------------------+--------------------+--------------------+--------------------+--------------------+-------------------+--------+------------+--------------------+--------------------+\n",
      "|GHSA-5844-q3fc-56rh|pubnub Insufficie...|Versions of the p...|[CVE-2023-26154, ...|2024-05-21 00:15:...|2023-12-06 07:30:20|MODERATE|      pubnub|               5.0.0|CVSS:3.1/AV:N/AC:...|\n",
      "|GHSA-5844-q3fc-56rh|pubnub Insufficie...|Versions of the p...|[CVE-2023-26154, ...|2024-05-21 00:15:...|2023-12-06 07:30:20|MODERATE|      pubnub|               6.0.3|CVSS:3.1/AV:N/AC:...|\n",
      "|GHSA-5844-q3fc-56rh|pubnub Insufficie...|Versions of the p...|[CVE-2023-26154, ...|2024-05-21 00:15:...|2023-12-06 07:30:20|MODERATE|      pubnub|               7.0.0|CVSS:3.1/AV:N/AC:...|\n",
      "|GHSA-5844-q3fc-56rh|pubnub Insufficie...|Versions of the p...|[CVE-2023-26154, ...|2024-05-21 00:15:...|2023-12-06 07:30:20|MODERATE|      pubnub|               7.3.2|CVSS:3.1/AV:N/AC:...|\n",
      "|GHSA-5844-q3fc-56rh|pubnub Insufficie...|Versions of the p...|[CVE-2023-26154, ...|2024-05-21 00:15:...|2023-12-06 07:30:20|MODERATE|      pubnub|               3.5.5|CVSS:3.1/AV:N/AC:...|\n",
      "|GHSA-5844-q3fc-56rh|pubnub Insufficie...|Versions of the p...|[CVE-2023-26154, ...|2024-05-21 00:15:...|2023-12-06 07:30:20|MODERATE|      pubnub|               3.6.0|CVSS:3.1/AV:N/AC:...|\n",
      "|GHSA-5844-q3fc-56rh|pubnub Insufficie...|Versions of the p...|[CVE-2023-26154, ...|2024-05-21 00:15:...|2023-12-06 07:30:20|MODERATE|      pubnub|               3.7.0|CVSS:3.1/AV:N/AC:...|\n",
      "|GHSA-5844-q3fc-56rh|pubnub Insufficie...|Versions of the p...|[CVE-2023-26154, ...|2024-05-21 00:15:...|2023-12-06 07:30:20|MODERATE|      pubnub|              4.0.12|CVSS:3.1/AV:N/AC:...|\n",
      "|GHSA-5844-q3fc-56rh|pubnub Insufficie...|Versions of the p...|[CVE-2023-26154, ...|2024-05-21 00:15:...|2023-12-06 07:30:20|MODERATE|      pubnub|               4.0.2|CVSS:3.1/AV:N/AC:...|\n",
      "|GHSA-5844-q3fc-56rh|pubnub Insufficie...|Versions of the p...|[CVE-2023-26154, ...|2024-05-21 00:15:...|2023-12-06 07:30:20|MODERATE|      pubnub|               4.0.6|CVSS:3.1/AV:N/AC:...|\n",
      "|GHSA-5844-q3fc-56rh|pubnub Insufficie...|Versions of the p...|[CVE-2023-26154, ...|2024-05-21 00:15:...|2023-12-06 07:30:20|MODERATE|      pubnub|3.3.0.1-release-0...|CVSS:3.1/AV:N/AC:...|\n",
      "|GHSA-5844-q3fc-56rh|pubnub Insufficie...|Versions of the p...|[CVE-2023-26154, ...|2024-05-21 00:15:...|2023-12-06 07:30:20|MODERATE|      pubnub|3.3.0.1-release-1...|CVSS:3.1/AV:N/AC:...|\n",
      "|GHSA-5844-q3fc-56rh|pubnub Insufficie...|Versions of the p...|[CVE-2023-26154, ...|2024-05-21 00:15:...|2023-12-06 07:30:20|MODERATE|      pubnub|         3.4.0.1-rc3|CVSS:3.1/AV:N/AC:...|\n",
      "|GHSA-5844-q3fc-56rh|pubnub Insufficie...|Versions of the p...|[CVE-2023-26154, ...|2024-05-21 00:15:...|2023-12-06 07:30:20|MODERATE|      pubnub|         3.5.0.1-rc4|CVSS:3.1/AV:N/AC:...|\n",
      "|GHSA-5844-q3fc-56rh|pubnub Insufficie...|Versions of the p...|[CVE-2023-26154, ...|2024-05-21 00:15:...|2023-12-06 07:30:20|MODERATE|      pubnub|         3.6.0.1-rc5|CVSS:3.1/AV:N/AC:...|\n",
      "|GHSA-5844-q3fc-56rh|pubnub Insufficie...|Versions of the p...|[CVE-2023-26154, ...|2024-05-21 00:15:...|2023-12-06 07:30:20|MODERATE|      pubnub|               3.7.0|CVSS:3.1/AV:N/AC:...|\n",
      "|GHSA-5844-q3fc-56rh|pubnub Insufficie...|Versions of the p...|[CVE-2023-26154, ...|2024-05-21 00:15:...|2023-12-06 07:30:20|MODERATE|      pubnub|               3.8.2|CVSS:3.1/AV:N/AC:...|\n",
      "|GHSA-5844-q3fc-56rh|pubnub Insufficie...|Versions of the p...|[CVE-2023-26154, ...|2024-05-21 00:15:...|2023-12-06 07:30:20|MODERATE|      pubnub|               3.8.4|CVSS:3.1/AV:N/AC:...|\n",
      "|GHSA-5844-q3fc-56rh|pubnub Insufficie...|Versions of the p...|[CVE-2023-26154, ...|2024-05-21 00:15:...|2023-12-06 07:30:20|MODERATE|      pubnub|           3.8.6-rc1|CVSS:3.1/AV:N/AC:...|\n",
      "|GHSA-5844-q3fc-56rh|pubnub Insufficie...|Versions of the p...|[CVE-2023-26154, ...|2024-05-21 00:15:...|2023-12-06 07:30:20|MODERATE|      pubnub|               3.8.7|CVSS:3.1/AV:N/AC:...|\n",
      "+-------------------+--------------------+--------------------+--------------------+--------------------+-------------------+--------+------------+--------------------+--------------------+\n",
      "only showing top 20 rows\n",
      "\n"
     ]
    }
   ],
   "source": [
    "df = spark.read.parquet(\"../.viper_cache/vulnerabilities.parquet\")\n",
    "\n",
    "df.show()"
   ]
  },
  {
   "cell_type": "code",
   "execution_count": 26,
   "metadata": {},
   "outputs": [
    {
     "name": "stdout",
     "output_type": "stream",
     "text": [
      "+--------------+--------+-------+--------+\n",
      "|severity_score|severity|summary|versions|\n",
      "+--------------+--------+-------+--------+\n",
      "+--------------+--------+-------+--------+\n",
      "\n"
     ]
    }
   ],
   "source": [
    "package = \"flash-attn\"\n",
    "\n",
    "df.filter(F.col(\"package_name\") == F.lit(package)\n",
    ").select(\"severity_score\", \"severity\", \"summary\", \"versions\").show()"
   ]
  },
  {
   "cell_type": "code",
   "execution_count": 25,
   "metadata": {},
   "outputs": [
    {
     "data": {
      "text/plain": [
       "[Row(severity_score='CVSS:3.0/AV:N/AC:L/PR:N/UI:N/S:C/C:H/I:N/A:N', severity='HIGH', summary='Server-Side Request Forgery in gradio')]"
      ]
     },
     "execution_count": 25,
     "metadata": {},
     "output_type": "execute_result"
    }
   ],
   "source": [
    "package = \"gradio\"\n",
    "\n",
    "df.filter(\n",
    "    (F.col(\"package_name\") == F.lit(package))\n",
    ").select(\"severity_score\", \"severity\", \"summary\").take(1)"
   ]
  },
  {
   "cell_type": "code",
   "execution_count": 23,
   "metadata": {},
   "outputs": [
    {
     "name": "stdout",
     "output_type": "stream",
     "text": [
      "+------------------+-----------+\n",
      "|      package_name|   versions|\n",
      "+------------------+-----------+\n",
      "|             anyio|      4.4.0|\n",
      "|         asttokens|      2.4.1|\n",
      "|           certifi|   2024.7.4|\n",
      "|charset-normalizer|      3.3.2|\n",
      "|              comm|      0.2.2|\n",
      "|          coverage|      7.5.4|\n",
      "|              cvss|        3.1|\n",
      "|           debugpy|      1.8.2|\n",
      "|         decorator|      5.1.1|\n",
      "|            duckdb|      1.0.0|\n",
      "|            einops|      0.8.0|\n",
      "|         executing|      2.0.1|\n",
      "|          filelock|     3.15.4|\n",
      "|        flash-attn|2.5.9.post1|\n",
      "|            fsspec|   2024.6.1|\n",
      "|               h11|     0.14.0|\n",
      "|          httpcore|      1.0.5|\n",
      "|             httpx|     0.27.0|\n",
      "|   huggingface-hub|     0.23.4|\n",
      "|              idna|        3.7|\n",
      "+------------------+-----------+\n",
      "only showing top 20 rows\n",
      "\n"
     ]
    }
   ],
   "source": [
    "from pyspark.sql.types import StructType, StructField, StringType\n",
    "\n",
    "\n",
    "# List of package strings\n",
    "packages = [\n",
    "    \"anyio==4.4.0\",\n",
    "    \"asttokens==2.4.1\",\n",
    "    \"certifi==2024.7.4\",\n",
    "    \"charset-normalizer==3.3.2\",\n",
    "    \"comm==0.2.2\",\n",
    "    \"coverage==7.5.4\",\n",
    "    \"cvss==3.1\",\n",
    "    \"debugpy==1.8.2\",\n",
    "    \"decorator==5.1.1\",\n",
    "    \"duckdb==1.0.0\",\n",
    "    \"einops==0.8.0\",\n",
    "    \"executing==2.0.1\",\n",
    "    \"filelock==3.15.4\",\n",
    "    \"flash-attn==2.5.9.post1\",\n",
    "    \"fsspec==2024.6.1\",\n",
    "    \"h11==0.14.0\",\n",
    "    \"httpcore==1.0.5\",\n",
    "    \"httpx==0.27.0\",\n",
    "    \"huggingface-hub==0.23.4\",\n",
    "    \"idna==3.7\",\n",
    "    \"iniconfig==2.0.0\",\n",
    "    \"ipykernel==6.29.5\",\n",
    "    \"ipython==8.26.0\",\n",
    "    \"jedi==0.19.1\",\n",
    "    \"Jinja2==3.1.4\",\n",
    "    \"jupyter_client==8.6.2\",\n",
    "    \"jupyter_core==5.7.2\",\n",
    "    \"MarkupSafe==2.1.5\",\n",
    "    \"matplotlib-inline==0.1.7\",\n",
    "    \"mpmath==1.3.0\",\n",
    "    \"nest-asyncio==1.6.0\",\n",
    "    \"networkx==3.3\",\n",
    "    \"numpy==1.26.4\",\n",
    "    \"nvidia-cublas-cu12==12.1.3.1\",\n",
    "    \"nvidia-cuda-cupti-cu12==12.1.105\",\n",
    "    \"nvidia-cuda-nvrtc-cu12==12.1.105\",\n",
    "    \"nvidia-cuda-runtime-cu12==12.1.105\",\n",
    "    \"nvidia-cudnn-cu12==8.9.2.26\",\n",
    "    \"nvidia-cufft-cu12==11.0.2.54\",\n",
    "    \"nvidia-curand-cu12==10.3.2.106\",\n",
    "    \"nvidia-cusolver-cu12==11.4.5.107\",\n",
    "    \"nvidia-cusparse-cu12==12.1.0.106\",\n",
    "    \"nvidia-nccl-cu12==2.20.5\",\n",
    "    \"nvidia-nvjitlink-cu12==12.5.82\",\n",
    "    \"nvidia-nvtx-cu12==12.1.105\",\n",
    "    \"packaging==24.1\",\n",
    "    \"pandas==2.2.2\",\n",
    "    \"parso==0.8.4\",\n",
    "    \"pexpect==4.9.0\",\n",
    "    \"platformdirs==4.2.2\",\n",
    "    \"pluggy==1.5.0\",\n",
    "    \"prompt_toolkit==3.0.47\",\n",
    "    \"psutil==6.0.0\",\n",
    "    \"ptyprocess==0.7.0\",\n",
    "    \"pure-eval==0.2.2\",\n",
    "    \"py4j==0.10.9.7\",\n",
    "    \"pyarrow==16.1.0\",\n",
    "    \"Pygments==2.18.0\",\n",
    "    \"pyspark==3.5.1\",\n",
    "    \"pytest==8.2.2\",\n",
    "    \"pytest-cov==5.0.0\",\n",
    "    \"python-dateutil==2.9.0.post0\",\n",
    "    \"pytz==2024.1\",\n",
    "    \"PyYAML==6.0.1\",\n",
    "    \"pyzmq==26.0.3\",\n",
    "    \"regex==2024.5.15\",\n",
    "    \"requests==2.32.3\",\n",
    "    \"ruff==0.5.0\",\n",
    "    \"safetensors==0.4.3\",\n",
    "    \"six==1.16.0\",\n",
    "    \"sniffio==1.3.1\",\n",
    "    \"stack-data==0.6.3\",\n",
    "    \"sympy==1.12.1\",\n",
    "    \"tokenizers==0.19.1\",\n",
    "    \"torch==2.3.1\",\n",
    "    \"tornado==6.4.1\",\n",
    "    \"tqdm==4.66.4\",\n",
    "    \"traitlets==5.14.3\",\n",
    "    \"transformers==4.28.1\",\n",
    "    \"triton==2.3.1\",\n",
    "    \"typing_extensions==4.12.2\",\n",
    "    \"tzdata==2024.1\",\n",
    "    \"urllib3==2.2.2\"\n",
    "]\n",
    "\n",
    "\n",
    "# Convert list of package strings to list of tuples (package_name, version)\n",
    "packages_tuples = [(pkg.split(\"==\")[0], pkg.split(\"==\")[1]) for pkg in packages]\n",
    "\n",
    "# Define the schema\n",
    "\n",
    "schema = StructType([\n",
    "    StructField(\"package_name\", StringType(), True),\n",
    "    StructField(\"versions\", StringType(), True)\n",
    "])\n",
    "\n",
    "# Create DataFrame\n",
    "packages_df = spark.createDataFrame(packages_tuples, schema)\n",
    "\n",
    "# Show DataFrame\n",
    "packages_df.show()\n"
   ]
  },
  {
   "cell_type": "code",
   "execution_count": 24,
   "metadata": {},
   "outputs": [
    {
     "name": "stderr",
     "output_type": "stream",
     "text": [
      "                                                                                \r"
     ]
    },
    {
     "name": "stdout",
     "output_type": "stream",
     "text": [
      "+------------+--------+---+-------+-------+-------+--------+---------+--------+--------------+\n",
      "|package_name|versions| id|summary|details|aliases|modified|published|severity|severity_score|\n",
      "+------------+--------+---+-------+-------+-------+--------+---------+--------+--------------+\n",
      "+------------+--------+---+-------+-------+-------+--------+---------+--------+--------------+\n",
      "\n"
     ]
    }
   ],
   "source": [
    "# Assuming packages_df is the DataFrame created from the list of packages\n",
    "joined_df = df.join(\n",
    "    packages_df,\n",
    "    on = [\"package_name\", \"versions\"],\n",
    "    how=\"inner\")\n",
    "\n",
    "# Show the result\n",
    "joined_df.show()"
   ]
  },
  {
   "cell_type": "code",
   "execution_count": null,
   "metadata": {},
   "outputs": [],
   "source": []
  }
 ],
 "metadata": {
  "kernelspec": {
   "display_name": ".venv",
   "language": "python",
   "name": "python3"
  },
  "language_info": {
   "codemirror_mode": {
    "name": "ipython",
    "version": 3
   },
   "file_extension": ".py",
   "mimetype": "text/x-python",
   "name": "python",
   "nbconvert_exporter": "python",
   "pygments_lexer": "ipython3",
   "version": "3.11.5"
  }
 },
 "nbformat": 4,
 "nbformat_minor": 2
}
